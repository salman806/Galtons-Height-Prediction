{
 "cells": [
  {
   "cell_type": "code",
   "execution_count": 1,
   "metadata": {},
   "outputs": [],
   "source": [
    "import pandas as pd # panda use for matpulate data"
   ]
  },
  {
   "cell_type": "code",
   "execution_count": 2,
   "metadata": {},
   "outputs": [],
   "source": [
    "#load dataset\n",
    "data = pd.read_csv('C:/Users/DELL/Downloads/Galtons Height Data.csv')"
   ]
  },
  {
   "cell_type": "code",
   "execution_count": 3,
   "metadata": {},
   "outputs": [
    {
     "data": {
      "text/html": [
       "<div>\n",
       "<style scoped>\n",
       "    .dataframe tbody tr th:only-of-type {\n",
       "        vertical-align: middle;\n",
       "    }\n",
       "\n",
       "    .dataframe tbody tr th {\n",
       "        vertical-align: top;\n",
       "    }\n",
       "\n",
       "    .dataframe thead th {\n",
       "        text-align: right;\n",
       "    }\n",
       "</style>\n",
       "<table border=\"1\" class=\"dataframe\">\n",
       "  <thead>\n",
       "    <tr style=\"text-align: right;\">\n",
       "      <th></th>\n",
       "      <th>Family</th>\n",
       "      <th>Father</th>\n",
       "      <th>Mother</th>\n",
       "      <th>Gender</th>\n",
       "      <th>Height</th>\n",
       "      <th>Kids</th>\n",
       "    </tr>\n",
       "  </thead>\n",
       "  <tbody>\n",
       "    <tr>\n",
       "      <td>0</td>\n",
       "      <td>1</td>\n",
       "      <td>78.5</td>\n",
       "      <td>67.0</td>\n",
       "      <td>M</td>\n",
       "      <td>73.2</td>\n",
       "      <td>4</td>\n",
       "    </tr>\n",
       "    <tr>\n",
       "      <td>1</td>\n",
       "      <td>1</td>\n",
       "      <td>78.5</td>\n",
       "      <td>67.0</td>\n",
       "      <td>F</td>\n",
       "      <td>69.2</td>\n",
       "      <td>4</td>\n",
       "    </tr>\n",
       "    <tr>\n",
       "      <td>2</td>\n",
       "      <td>1</td>\n",
       "      <td>78.5</td>\n",
       "      <td>67.0</td>\n",
       "      <td>F</td>\n",
       "      <td>69.0</td>\n",
       "      <td>4</td>\n",
       "    </tr>\n",
       "    <tr>\n",
       "      <td>3</td>\n",
       "      <td>1</td>\n",
       "      <td>78.5</td>\n",
       "      <td>67.0</td>\n",
       "      <td>F</td>\n",
       "      <td>69.0</td>\n",
       "      <td>4</td>\n",
       "    </tr>\n",
       "    <tr>\n",
       "      <td>4</td>\n",
       "      <td>2</td>\n",
       "      <td>75.5</td>\n",
       "      <td>66.5</td>\n",
       "      <td>M</td>\n",
       "      <td>73.5</td>\n",
       "      <td>4</td>\n",
       "    </tr>\n",
       "  </tbody>\n",
       "</table>\n",
       "</div>"
      ],
      "text/plain": [
       "   Family  Father  Mother Gender  Height  Kids\n",
       "0       1    78.5    67.0      M    73.2     4\n",
       "1       1    78.5    67.0      F    69.2     4\n",
       "2       1    78.5    67.0      F    69.0     4\n",
       "3       1    78.5    67.0      F    69.0     4\n",
       "4       2    75.5    66.5      M    73.5     4"
      ]
     },
     "execution_count": 3,
     "metadata": {},
     "output_type": "execute_result"
    }
   ],
   "source": [
    "data.head()"
   ]
  },
  {
   "cell_type": "code",
   "execution_count": 4,
   "metadata": {},
   "outputs": [],
   "source": [
    "#change inches to centimeters by multiply (2.54)\n",
    "data['Father'] = 2.54*data['Father']\n",
    "data['Mother'] = 2.54*data['Mother']\n",
    "data['Height'] = 2.54*data['Height']"
   ]
  },
  {
   "cell_type": "code",
   "execution_count": 5,
   "metadata": {},
   "outputs": [
    {
     "data": {
      "text/html": [
       "<div>\n",
       "<style scoped>\n",
       "    .dataframe tbody tr th:only-of-type {\n",
       "        vertical-align: middle;\n",
       "    }\n",
       "\n",
       "    .dataframe tbody tr th {\n",
       "        vertical-align: top;\n",
       "    }\n",
       "\n",
       "    .dataframe thead th {\n",
       "        text-align: right;\n",
       "    }\n",
       "</style>\n",
       "<table border=\"1\" class=\"dataframe\">\n",
       "  <thead>\n",
       "    <tr style=\"text-align: right;\">\n",
       "      <th></th>\n",
       "      <th>Family</th>\n",
       "      <th>Father</th>\n",
       "      <th>Mother</th>\n",
       "      <th>Gender</th>\n",
       "      <th>Height</th>\n",
       "      <th>Kids</th>\n",
       "    </tr>\n",
       "  </thead>\n",
       "  <tbody>\n",
       "    <tr>\n",
       "      <td>0</td>\n",
       "      <td>1</td>\n",
       "      <td>199.39</td>\n",
       "      <td>170.18</td>\n",
       "      <td>M</td>\n",
       "      <td>185.928</td>\n",
       "      <td>4</td>\n",
       "    </tr>\n",
       "    <tr>\n",
       "      <td>1</td>\n",
       "      <td>1</td>\n",
       "      <td>199.39</td>\n",
       "      <td>170.18</td>\n",
       "      <td>F</td>\n",
       "      <td>175.768</td>\n",
       "      <td>4</td>\n",
       "    </tr>\n",
       "    <tr>\n",
       "      <td>2</td>\n",
       "      <td>1</td>\n",
       "      <td>199.39</td>\n",
       "      <td>170.18</td>\n",
       "      <td>F</td>\n",
       "      <td>175.260</td>\n",
       "      <td>4</td>\n",
       "    </tr>\n",
       "    <tr>\n",
       "      <td>3</td>\n",
       "      <td>1</td>\n",
       "      <td>199.39</td>\n",
       "      <td>170.18</td>\n",
       "      <td>F</td>\n",
       "      <td>175.260</td>\n",
       "      <td>4</td>\n",
       "    </tr>\n",
       "    <tr>\n",
       "      <td>4</td>\n",
       "      <td>2</td>\n",
       "      <td>191.77</td>\n",
       "      <td>168.91</td>\n",
       "      <td>M</td>\n",
       "      <td>186.690</td>\n",
       "      <td>4</td>\n",
       "    </tr>\n",
       "  </tbody>\n",
       "</table>\n",
       "</div>"
      ],
      "text/plain": [
       "   Family  Father  Mother Gender   Height  Kids\n",
       "0       1  199.39  170.18      M  185.928     4\n",
       "1       1  199.39  170.18      F  175.768     4\n",
       "2       1  199.39  170.18      F  175.260     4\n",
       "3       1  199.39  170.18      F  175.260     4\n",
       "4       2  191.77  168.91      M  186.690     4"
      ]
     },
     "execution_count": 5,
     "metadata": {},
     "output_type": "execute_result"
    }
   ],
   "source": [
    "data.head()"
   ]
  },
  {
   "cell_type": "code",
   "execution_count": 6,
   "metadata": {},
   "outputs": [
    {
     "data": {
      "text/html": [
       "<div>\n",
       "<style scoped>\n",
       "    .dataframe tbody tr th:only-of-type {\n",
       "        vertical-align: middle;\n",
       "    }\n",
       "\n",
       "    .dataframe tbody tr th {\n",
       "        vertical-align: top;\n",
       "    }\n",
       "\n",
       "    .dataframe thead th {\n",
       "        text-align: right;\n",
       "    }\n",
       "</style>\n",
       "<table border=\"1\" class=\"dataframe\">\n",
       "  <thead>\n",
       "    <tr style=\"text-align: right;\">\n",
       "      <th></th>\n",
       "      <th>Family</th>\n",
       "      <th>Father</th>\n",
       "      <th>Mother</th>\n",
       "      <th>Height</th>\n",
       "      <th>Kids</th>\n",
       "    </tr>\n",
       "  </thead>\n",
       "  <tbody>\n",
       "    <tr>\n",
       "      <td>count</td>\n",
       "      <td>898.000000</td>\n",
       "      <td>898.000000</td>\n",
       "      <td>898.000000</td>\n",
       "      <td>898.000000</td>\n",
       "      <td>898.000000</td>\n",
       "    </tr>\n",
       "    <tr>\n",
       "      <td>mean</td>\n",
       "      <td>105.216036</td>\n",
       "      <td>175.851441</td>\n",
       "      <td>162.774401</td>\n",
       "      <td>169.572154</td>\n",
       "      <td>6.135857</td>\n",
       "    </tr>\n",
       "    <tr>\n",
       "      <td>std</td>\n",
       "      <td>57.189899</td>\n",
       "      <td>6.274450</td>\n",
       "      <td>5.859844</td>\n",
       "      <td>9.100613</td>\n",
       "      <td>2.685156</td>\n",
       "    </tr>\n",
       "    <tr>\n",
       "      <td>min</td>\n",
       "      <td>1.000000</td>\n",
       "      <td>157.480000</td>\n",
       "      <td>147.320000</td>\n",
       "      <td>142.240000</td>\n",
       "      <td>1.000000</td>\n",
       "    </tr>\n",
       "    <tr>\n",
       "      <td>25%</td>\n",
       "      <td>58.000000</td>\n",
       "      <td>172.720000</td>\n",
       "      <td>160.020000</td>\n",
       "      <td>162.560000</td>\n",
       "      <td>4.000000</td>\n",
       "    </tr>\n",
       "    <tr>\n",
       "      <td>50%</td>\n",
       "      <td>105.000000</td>\n",
       "      <td>175.260000</td>\n",
       "      <td>162.560000</td>\n",
       "      <td>168.910000</td>\n",
       "      <td>6.000000</td>\n",
       "    </tr>\n",
       "    <tr>\n",
       "      <td>75%</td>\n",
       "      <td>155.750000</td>\n",
       "      <td>180.340000</td>\n",
       "      <td>166.370000</td>\n",
       "      <td>177.038000</td>\n",
       "      <td>8.000000</td>\n",
       "    </tr>\n",
       "    <tr>\n",
       "      <td>max</td>\n",
       "      <td>205.000000</td>\n",
       "      <td>199.390000</td>\n",
       "      <td>179.070000</td>\n",
       "      <td>200.660000</td>\n",
       "      <td>15.000000</td>\n",
       "    </tr>\n",
       "  </tbody>\n",
       "</table>\n",
       "</div>"
      ],
      "text/plain": [
       "           Family      Father      Mother      Height        Kids\n",
       "count  898.000000  898.000000  898.000000  898.000000  898.000000\n",
       "mean   105.216036  175.851441  162.774401  169.572154    6.135857\n",
       "std     57.189899    6.274450    5.859844    9.100613    2.685156\n",
       "min      1.000000  157.480000  147.320000  142.240000    1.000000\n",
       "25%     58.000000  172.720000  160.020000  162.560000    4.000000\n",
       "50%    105.000000  175.260000  162.560000  168.910000    6.000000\n",
       "75%    155.750000  180.340000  166.370000  177.038000    8.000000\n",
       "max    205.000000  199.390000  179.070000  200.660000   15.000000"
      ]
     },
     "execution_count": 6,
     "metadata": {},
     "output_type": "execute_result"
    }
   ],
   "source": [
    "data.describe()"
   ]
  },
  {
   "cell_type": "code",
   "execution_count": 7,
   "metadata": {},
   "outputs": [
    {
     "data": {
      "text/html": [
       "<div>\n",
       "<style scoped>\n",
       "    .dataframe tbody tr th:only-of-type {\n",
       "        vertical-align: middle;\n",
       "    }\n",
       "\n",
       "    .dataframe tbody tr th {\n",
       "        vertical-align: top;\n",
       "    }\n",
       "\n",
       "    .dataframe thead th {\n",
       "        text-align: right;\n",
       "    }\n",
       "</style>\n",
       "<table border=\"1\" class=\"dataframe\">\n",
       "  <thead>\n",
       "    <tr style=\"text-align: right;\">\n",
       "      <th></th>\n",
       "      <th>F</th>\n",
       "      <th>M</th>\n",
       "    </tr>\n",
       "  </thead>\n",
       "  <tbody>\n",
       "    <tr>\n",
       "      <td>0</td>\n",
       "      <td>1</td>\n",
       "      <td>0</td>\n",
       "    </tr>\n",
       "    <tr>\n",
       "      <td>1</td>\n",
       "      <td>0</td>\n",
       "      <td>1</td>\n",
       "    </tr>\n",
       "  </tbody>\n",
       "</table>\n",
       "</div>"
      ],
      "text/plain": [
       "   F  M\n",
       "0  1  0\n",
       "1  0  1"
      ]
     },
     "execution_count": 7,
     "metadata": {},
     "output_type": "execute_result"
    }
   ],
   "source": [
    "#Convert categorical variable into dummy\n",
    "pd.get_dummies(['F','M'])"
   ]
  },
  {
   "cell_type": "code",
   "execution_count": 8,
   "metadata": {},
   "outputs": [],
   "source": [
    "gender = pd.get_dummies(data['Gender'],drop_first=True)"
   ]
  },
  {
   "cell_type": "code",
   "execution_count": 9,
   "metadata": {},
   "outputs": [
    {
     "data": {
      "text/html": [
       "<div>\n",
       "<style scoped>\n",
       "    .dataframe tbody tr th:only-of-type {\n",
       "        vertical-align: middle;\n",
       "    }\n",
       "\n",
       "    .dataframe tbody tr th {\n",
       "        vertical-align: top;\n",
       "    }\n",
       "\n",
       "    .dataframe thead th {\n",
       "        text-align: right;\n",
       "    }\n",
       "</style>\n",
       "<table border=\"1\" class=\"dataframe\">\n",
       "  <thead>\n",
       "    <tr style=\"text-align: right;\">\n",
       "      <th></th>\n",
       "      <th>M</th>\n",
       "    </tr>\n",
       "  </thead>\n",
       "  <tbody>\n",
       "    <tr>\n",
       "      <td>0</td>\n",
       "      <td>1</td>\n",
       "    </tr>\n",
       "    <tr>\n",
       "      <td>1</td>\n",
       "      <td>0</td>\n",
       "    </tr>\n",
       "    <tr>\n",
       "      <td>2</td>\n",
       "      <td>0</td>\n",
       "    </tr>\n",
       "    <tr>\n",
       "      <td>3</td>\n",
       "      <td>0</td>\n",
       "    </tr>\n",
       "    <tr>\n",
       "      <td>4</td>\n",
       "      <td>1</td>\n",
       "    </tr>\n",
       "    <tr>\n",
       "      <td>...</td>\n",
       "      <td>...</td>\n",
       "    </tr>\n",
       "    <tr>\n",
       "      <td>893</td>\n",
       "      <td>1</td>\n",
       "    </tr>\n",
       "    <tr>\n",
       "      <td>894</td>\n",
       "      <td>1</td>\n",
       "    </tr>\n",
       "    <tr>\n",
       "      <td>895</td>\n",
       "      <td>0</td>\n",
       "    </tr>\n",
       "    <tr>\n",
       "      <td>896</td>\n",
       "      <td>0</td>\n",
       "    </tr>\n",
       "    <tr>\n",
       "      <td>897</td>\n",
       "      <td>0</td>\n",
       "    </tr>\n",
       "  </tbody>\n",
       "</table>\n",
       "<p>898 rows × 1 columns</p>\n",
       "</div>"
      ],
      "text/plain": [
       "     M\n",
       "0    1\n",
       "1    0\n",
       "2    0\n",
       "3    0\n",
       "4    1\n",
       "..  ..\n",
       "893  1\n",
       "894  1\n",
       "895  0\n",
       "896  0\n",
       "897  0\n",
       "\n",
       "[898 rows x 1 columns]"
      ]
     },
     "execution_count": 9,
     "metadata": {},
     "output_type": "execute_result"
    }
   ],
   "source": [
    "gender"
   ]
  },
  {
   "cell_type": "code",
   "execution_count": 11,
   "metadata": {},
   "outputs": [],
   "source": [
    "#drop Gender and family columns\n",
    "data.drop(['Gender','Family'],axis=1,inplace=True)"
   ]
  },
  {
   "cell_type": "code",
   "execution_count": 12,
   "metadata": {},
   "outputs": [
    {
     "data": {
      "text/html": [
       "<div>\n",
       "<style scoped>\n",
       "    .dataframe tbody tr th:only-of-type {\n",
       "        vertical-align: middle;\n",
       "    }\n",
       "\n",
       "    .dataframe tbody tr th {\n",
       "        vertical-align: top;\n",
       "    }\n",
       "\n",
       "    .dataframe thead th {\n",
       "        text-align: right;\n",
       "    }\n",
       "</style>\n",
       "<table border=\"1\" class=\"dataframe\">\n",
       "  <thead>\n",
       "    <tr style=\"text-align: right;\">\n",
       "      <th></th>\n",
       "      <th>Father</th>\n",
       "      <th>Mother</th>\n",
       "      <th>Height</th>\n",
       "      <th>Kids</th>\n",
       "    </tr>\n",
       "  </thead>\n",
       "  <tbody>\n",
       "    <tr>\n",
       "      <td>0</td>\n",
       "      <td>199.39</td>\n",
       "      <td>170.18</td>\n",
       "      <td>185.928</td>\n",
       "      <td>4</td>\n",
       "    </tr>\n",
       "    <tr>\n",
       "      <td>1</td>\n",
       "      <td>199.39</td>\n",
       "      <td>170.18</td>\n",
       "      <td>175.768</td>\n",
       "      <td>4</td>\n",
       "    </tr>\n",
       "    <tr>\n",
       "      <td>2</td>\n",
       "      <td>199.39</td>\n",
       "      <td>170.18</td>\n",
       "      <td>175.260</td>\n",
       "      <td>4</td>\n",
       "    </tr>\n",
       "    <tr>\n",
       "      <td>3</td>\n",
       "      <td>199.39</td>\n",
       "      <td>170.18</td>\n",
       "      <td>175.260</td>\n",
       "      <td>4</td>\n",
       "    </tr>\n",
       "    <tr>\n",
       "      <td>4</td>\n",
       "      <td>191.77</td>\n",
       "      <td>168.91</td>\n",
       "      <td>186.690</td>\n",
       "      <td>4</td>\n",
       "    </tr>\n",
       "  </tbody>\n",
       "</table>\n",
       "</div>"
      ],
      "text/plain": [
       "   Father  Mother   Height  Kids\n",
       "0  199.39  170.18  185.928     4\n",
       "1  199.39  170.18  175.768     4\n",
       "2  199.39  170.18  175.260     4\n",
       "3  199.39  170.18  175.260     4\n",
       "4  191.77  168.91  186.690     4"
      ]
     },
     "execution_count": 12,
     "metadata": {},
     "output_type": "execute_result"
    }
   ],
   "source": [
    "data.head()"
   ]
  },
  {
   "cell_type": "code",
   "execution_count": 13,
   "metadata": {},
   "outputs": [],
   "source": [
    "#conta gender to the data\n",
    "data = pd.concat([data,gender],axis=1)"
   ]
  },
  {
   "cell_type": "code",
   "execution_count": 14,
   "metadata": {},
   "outputs": [
    {
     "data": {
      "text/html": [
       "<div>\n",
       "<style scoped>\n",
       "    .dataframe tbody tr th:only-of-type {\n",
       "        vertical-align: middle;\n",
       "    }\n",
       "\n",
       "    .dataframe tbody tr th {\n",
       "        vertical-align: top;\n",
       "    }\n",
       "\n",
       "    .dataframe thead th {\n",
       "        text-align: right;\n",
       "    }\n",
       "</style>\n",
       "<table border=\"1\" class=\"dataframe\">\n",
       "  <thead>\n",
       "    <tr style=\"text-align: right;\">\n",
       "      <th></th>\n",
       "      <th>Father</th>\n",
       "      <th>Mother</th>\n",
       "      <th>Height</th>\n",
       "      <th>Kids</th>\n",
       "      <th>M</th>\n",
       "    </tr>\n",
       "  </thead>\n",
       "  <tbody>\n",
       "    <tr>\n",
       "      <td>0</td>\n",
       "      <td>199.39</td>\n",
       "      <td>170.18</td>\n",
       "      <td>185.928</td>\n",
       "      <td>4</td>\n",
       "      <td>1</td>\n",
       "    </tr>\n",
       "    <tr>\n",
       "      <td>1</td>\n",
       "      <td>199.39</td>\n",
       "      <td>170.18</td>\n",
       "      <td>175.768</td>\n",
       "      <td>4</td>\n",
       "      <td>0</td>\n",
       "    </tr>\n",
       "    <tr>\n",
       "      <td>2</td>\n",
       "      <td>199.39</td>\n",
       "      <td>170.18</td>\n",
       "      <td>175.260</td>\n",
       "      <td>4</td>\n",
       "      <td>0</td>\n",
       "    </tr>\n",
       "    <tr>\n",
       "      <td>3</td>\n",
       "      <td>199.39</td>\n",
       "      <td>170.18</td>\n",
       "      <td>175.260</td>\n",
       "      <td>4</td>\n",
       "      <td>0</td>\n",
       "    </tr>\n",
       "    <tr>\n",
       "      <td>4</td>\n",
       "      <td>191.77</td>\n",
       "      <td>168.91</td>\n",
       "      <td>186.690</td>\n",
       "      <td>4</td>\n",
       "      <td>1</td>\n",
       "    </tr>\n",
       "  </tbody>\n",
       "</table>\n",
       "</div>"
      ],
      "text/plain": [
       "   Father  Mother   Height  Kids  M\n",
       "0  199.39  170.18  185.928     4  1\n",
       "1  199.39  170.18  175.768     4  0\n",
       "2  199.39  170.18  175.260     4  0\n",
       "3  199.39  170.18  175.260     4  0\n",
       "4  191.77  168.91  186.690     4  1"
      ]
     },
     "execution_count": 14,
     "metadata": {},
     "output_type": "execute_result"
    }
   ],
   "source": [
    "data.head()"
   ]
  },
  {
   "cell_type": "code",
   "execution_count": 16,
   "metadata": {},
   "outputs": [
    {
     "name": "stdout",
     "output_type": "stream",
     "text": [
      "<class 'pandas.core.frame.DataFrame'>\n",
      "RangeIndex: 898 entries, 0 to 897\n",
      "Data columns (total 5 columns):\n",
      "Father    898 non-null float64\n",
      "Mother    898 non-null float64\n",
      "Height    898 non-null float64\n",
      "Kids      898 non-null int64\n",
      "M         898 non-null uint8\n",
      "dtypes: float64(3), int64(1), uint8(1)\n",
      "memory usage: 29.1 KB\n"
     ]
    }
   ],
   "source": [
    "data.info()"
   ]
  },
  {
   "cell_type": "code",
   "execution_count": 17,
   "metadata": {},
   "outputs": [],
   "source": [
    "#Split arrays or matrices into random train and test subsets\n",
    "from sklearn.model_selection import train_test_split"
   ]
  },
  {
   "cell_type": "code",
   "execution_count": 19,
   "metadata": {},
   "outputs": [],
   "source": [
    "x_train,x_test,y_train,y_test = train_test_split(data.drop('Height',axis=1),\n",
    "                                                data['Height'],test_size=0.30,\n",
    "                                            random_state=101)"
   ]
  },
  {
   "cell_type": "code",
   "execution_count": 23,
   "metadata": {},
   "outputs": [
    {
     "name": "stdout",
     "output_type": "stream",
     "text": [
      "      Father  Mother  Kids  M\n",
      "268  179.070  165.10     5  0\n",
      "681  172.720  149.86    10  1\n",
      "655  173.228  161.29     5  0\n",
      "452  175.260  168.91     6  0\n",
      "2    199.390  170.18     4  0\n",
      "..       ...     ...   ... ..\n",
      "575  172.720  166.37     7  0\n",
      "838  165.100  165.10     9  0\n",
      "337  177.800  162.56     9  1\n",
      "523  175.260  158.75     8  0\n",
      "863  166.370  152.40     5  1\n",
      "\n",
      "[628 rows x 4 columns]\n",
      "      Father   Mother  Kids  M\n",
      "493  175.260  160.020     6  1\n",
      "237  177.800  175.260     6  1\n",
      "194  180.340  160.020     9  1\n",
      "218  180.340  158.750     5  0\n",
      "388  177.800  154.940     2  1\n",
      "..       ...      ...   ... ..\n",
      "392  177.800  152.400     4  0\n",
      "586  173.990  165.100     8  0\n",
      "281  177.800  165.100     5  0\n",
      "429  175.260  169.418     6  1\n",
      "485  175.768  162.560     4  0\n",
      "\n",
      "[270 rows x 4 columns]\n",
      "268    154.94\n",
      "681    162.56\n",
      "655    163.83\n",
      "452    160.02\n",
      "2      175.26\n",
      "        ...  \n",
      "575    156.21\n",
      "838    154.94\n",
      "337    177.80\n",
      "523    157.48\n",
      "863    172.72\n",
      "Name: Height, Length: 628, dtype: float64\n",
      "493    177.800\n",
      "237    174.498\n",
      "194    180.340\n",
      "218    162.560\n",
      "388    180.848\n",
      "        ...   \n",
      "392    165.100\n",
      "586    154.940\n",
      "281    158.750\n",
      "429    173.990\n",
      "485    165.100\n",
      "Name: Height, Length: 270, dtype: float64\n"
     ]
    }
   ],
   "source": [
    "print(x_train)\n",
    "print(x_test)\n",
    "print(y_train)\n",
    "print(y_test)"
   ]
  },
  {
   "cell_type": "code",
   "execution_count": 24,
   "metadata": {},
   "outputs": [],
   "source": [
    "#\n",
    "from sklearn.linear_model import LinearRegression"
   ]
  },
  {
   "cell_type": "code",
   "execution_count": 25,
   "metadata": {},
   "outputs": [
    {
     "data": {
      "text/plain": [
       "LinearRegression(copy_X=True, fit_intercept=True, n_jobs=None, normalize=False)"
      ]
     },
     "execution_count": 25,
     "metadata": {},
     "output_type": "execute_result"
    }
   ],
   "source": [
    "lm = LinearRegression()\n",
    "lm.fit(x_train,y_train)"
   ]
  },
  {
   "cell_type": "code",
   "execution_count": 26,
   "metadata": {},
   "outputs": [],
   "source": [
    "prediction = lm.predict(x_test)"
   ]
  },
  {
   "cell_type": "code",
   "execution_count": 27,
   "metadata": {},
   "outputs": [
    {
     "data": {
      "text/plain": [
       "array([174.29187228, 180.69686899, 175.78110215, 163.4276542 ,\n",
       "       174.18188795, 161.94227911, 177.6152657 , 176.92328114,\n",
       "       172.94514379, 164.99435134, 157.41552738, 166.47674043,\n",
       "       177.32233819, 181.87156503, 176.57150667, 162.97745977,\n",
       "       158.97451494, 170.00691068, 161.97865096, 176.35219164,\n",
       "       163.63692728, 168.84073606, 176.4769415 , 176.90080603,\n",
       "       175.73685874, 166.13403407, 178.99836603, 163.04721747,\n",
       "       171.71322825, 164.06178118, 157.41552738, 166.13403407,\n",
       "       173.98504803, 182.31790467, 164.26214014, 177.97708211,\n",
       "       177.78344336, 163.43150899, 176.25610406, 172.39267461,\n",
       "       168.10548569, 180.11019835, 169.44287714, 166.75104762,\n",
       "       163.94760632, 170.41600968, 163.94760632, 160.91008445,\n",
       "       176.29806827, 177.78344336, 176.64897394, 160.91008445,\n",
       "       177.29986308, 173.72849236, 173.73554831, 164.66825315,\n",
       "       163.95565164, 177.6152657 , 178.61407452, 170.77646756,\n",
       "       159.80129131, 174.36162997, 155.87130534, 170.00691068,\n",
       "       175.15318586, 177.50913616, 174.40891256, 176.35219164,\n",
       "       181.87156503, 162.21658631, 177.71368566, 165.46935325,\n",
       "       173.32644931, 160.35376049, 159.46813717, 172.05952047,\n",
       "       171.56589824, 173.56351587, 175.96790012, 171.71322825,\n",
       "       163.18971885, 163.04721747, 158.97451494, 177.47189553,\n",
       "       163.98012337, 163.18971885, 176.91942635, 161.70048898,\n",
       "       170.96934765, 170.3812653 , 162.65586999, 181.89637251,\n",
       "       164.50393028, 165.95678831, 165.38569881, 168.92677981,\n",
       "       165.38569881, 172.94514379, 182.59221186, 176.99303883,\n",
       "       162.65586999, 173.16445882, 158.5716031 , 158.97451494,\n",
       "       178.99836603, 166.17610334, 161.96003064, 163.38037161,\n",
       "       171.12661456, 166.99582375, 183.05999582, 162.65586999,\n",
       "       161.13710906, 174.08732278, 164.70847978, 173.70688605,\n",
       "       163.94760632, 173.72849236, 164.32804305, 174.29187228,\n",
       "       157.41552738, 161.94998869, 175.58074319, 173.24192609,\n",
       "       178.69371217, 166.13403407, 168.92677981, 176.75124869,\n",
       "       169.30498921, 158.97451494, 177.90819321, 165.38569881,\n",
       "       175.15318586, 173.16445882, 165.96449788, 172.05952047,\n",
       "       178.06073655, 172.94514379, 164.26214014, 162.74843854,\n",
       "       164.26214014, 166.40698273, 168.78889188, 170.93210701,\n",
       "       161.77795625, 160.73506601, 171.93477061, 179.17039848,\n",
       "       159.19382997, 174.36162997, 176.92328114, 179.65310996,\n",
       "       161.13710906, 162.98935989, 174.57003426, 173.53099881,\n",
       "       174.1493709 , 174.58479979, 183.80713454, 161.13710906,\n",
       "       160.21125911, 179.34243092, 162.56180256, 175.6788274 ,\n",
       "       171.56589824, 163.98012337, 163.49741189, 181.41751582,\n",
       "       176.64897394, 174.70954965, 165.96449788, 162.11816635,\n",
       "       160.35376049, 177.50913616, 160.62893647, 178.54817161,\n",
       "       176.4769415 , 161.56569717, 164.33189784, 161.97865096,\n",
       "       168.9995235 , 172.483385  , 178.92860834, 163.95565164,\n",
       "       161.13710906, 153.54265077, 176.54703494, 163.32923424,\n",
       "       168.10548569, 176.57150667, 175.58074319, 173.16445882,\n",
       "       159.34338731, 160.91008445, 165.17729453, 173.50146775,\n",
       "       172.08199557, 171.34592959, 164.30942273, 164.59447868,\n",
       "       158.97451494, 171.21575124, 162.97745977, 168.46268864,\n",
       "       175.24725329, 160.69782538, 168.25341556, 162.63339489,\n",
       "       161.77795625, 176.57150667, 174.54137199, 174.11196827,\n",
       "       172.483385  , 171.97499724, 156.33539651, 164.26214014,\n",
       "       159.34338731, 173.49761296, 171.78521327, 174.70954965,\n",
       "       157.41552738, 156.4081402 , 165.38569881, 177.62331103,\n",
       "       177.97708211, 181.87156503, 180.24281977, 162.63339489,\n",
       "       165.96449788, 164.85184996, 176.99303883, 179.17039848,\n",
       "       166.47674043, 164.73095489, 160.73506601, 163.8855582 ,\n",
       "       171.1629864 , 176.64126437, 158.5716031 , 169.82494133,\n",
       "       163.14547544, 173.28920868, 175.97175491, 158.5716031 ,\n",
       "       165.41522988, 175.22477819, 161.39366473, 161.11550274,\n",
       "       164.85184996, 160.35376049, 166.33722504, 183.80713454,\n",
       "       181.43211936, 158.5716031 , 154.67413419, 164.15986539,\n",
       "       159.51541976, 172.39267461, 164.05759064, 166.29699841,\n",
       "       163.38037161, 175.78110215, 166.33722504, 164.99435134,\n",
       "       174.54137199, 160.34605091, 162.65586999, 164.67596273,\n",
       "       177.62331103, 163.14547544])"
      ]
     },
     "execution_count": 27,
     "metadata": {},
     "output_type": "execute_result"
    }
   ],
   "source": [
    "prediction"
   ]
  },
  {
   "cell_type": "code",
   "execution_count": 28,
   "metadata": {},
   "outputs": [],
   "source": [
    "import matplotlib.pylab as plt\n",
    "%matplotlib inline"
   ]
  },
  {
   "cell_type": "code",
   "execution_count": 29,
   "metadata": {},
   "outputs": [
    {
     "data": {
      "text/plain": [
       "Text(0, 0.5, 'prediction Y')"
      ]
     },
     "execution_count": 29,
     "metadata": {},
     "output_type": "execute_result"
    },
    {
     "data": {
      "image/png": "[encoded data removed]",
      "text/plain": [
       "<Figure size 432x288 with 1 Axes>"
      ]
     },
     "metadata": {
      "needs_background": "light"
     },
     "output_type": "display_data"
    }
   ],
   "source": [
    "plt.scatter(y_test,prediction)\n",
    "plt.xlabel('Y test')\n",
    "plt.ylabel('prediction Y')"
   ]
  },
  {
   "cell_type": "code",
   "execution_count": 30,
   "metadata": {},
   "outputs": [
    {
     "name": "stdout",
     "output_type": "stream",
     "text": [
      "MAE: 4.15325300723061\n"
     ]
    }
   ],
   "source": [
    "from sklearn import metrics\n",
    "print('MAE:', metrics.mean_absolute_error(y_test,prediction))"
   ]
  },
  {
   "cell_type": "code",
   "execution_count": 31,
   "metadata": {},
   "outputs": [
    {
     "data": {
      "text/plain": [
       "array([164.73889206])"
      ]
     },
     "execution_count": 31,
     "metadata": {},
     "output_type": "execute_result"
    }
   ],
   "source": [
    "lm.predict([[179.0, 162.0, 1, 0]])"
   ]
  },
  {
   "cell_type": "code",
   "execution_count": 32,
   "metadata": {},
   "outputs": [
    {
     "data": {
      "text/plain": [
       "array([182.7066749])"
      ]
     },
     "execution_count": 32,
     "metadata": {},
     "output_type": "execute_result"
    }
   ],
   "source": [
    "lm.predict([[185.0, 170.0, 0, 1]])"
   ]
  },
  {
   "cell_type": "code",
   "execution_count": 41,
   "metadata": {},
   "outputs": [
    {
     "data": {
      "text/plain": [
       "array([169.08309694])"
      ]
     },
     "execution_count": 41,
     "metadata": {},
     "output_type": "execute_result"
    }
   ],
   "source": [
    "lm.predict([[185.0, 170.0, 1, 0]])"
   ]
  },
  {
   "cell_type": "code",
   "execution_count": null,
   "metadata": {},
   "outputs": [],
   "source": []
  }
 ],
 "metadata": {
  "kernelspec": {
   "display_name": "Python 3",
   "language": "python",
   "name": "python3"
  },
  "language_info": {
   "codemirror_mode": {
    "name": "ipython",
    "version": 3
   },
   "file_extension": ".py",
   "mimetype": "text/x-python",
   "name": "python",
   "nbconvert_exporter": "python",
   "pygments_lexer": "ipython3",
   "version": "3.7.4"
  }
 },
 "nbformat": 4,
 "nbformat_minor": 2
}
